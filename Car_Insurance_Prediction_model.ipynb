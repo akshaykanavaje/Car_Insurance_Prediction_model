{
  "nbformat": 4,
  "nbformat_minor": 0,
  "metadata": {
    "colab": {
      "provenance": []
    },
    "kernelspec": {
      "name": "python3",
      "display_name": "Python 3"
    },
    "language_info": {
      "name": "python"
    }
  },
  "cells": [
    {
      "cell_type": "code",
      "execution_count": 49,
      "metadata": {
        "id": "KhkFPZrUBEWf"
      },
      "outputs": [],
      "source": [
        "# student No- C22086383"
      ]
    },
    {
      "cell_type": "markdown",
      "source": [
        "**IMPORTING IMPORTANT LIBRARIES**"
      ],
      "metadata": {
        "id": "k0Mzvc8UeM29"
      }
    },
    {
      "cell_type": "code",
      "source": [
        "import pandas as pd\n",
        "import numpy as np\n",
        "import matplotlib.pyplot as plt\n",
        "import seaborn as sns\n",
        "import warnings\n",
        "warnings.filterwarnings('ignore')"
      ],
      "metadata": {
        "id": "2LeutKmNBVVY"
      },
      "execution_count": 50,
      "outputs": []
    },
    {
      "cell_type": "code",
      "source": [
        "Data_frame = pd.read_csv('/content/CW1_data_202223.csv') # read the dataset\n",
        "Data_frame.head()"
      ],
      "metadata": {
        "colab": {
          "base_uri": "https://localhost:8080/",
          "height": 206
        },
        "id": "4SUV0hTsfW3J",
        "outputId": "032c5680-e34b-4cd3-9e0d-0801e1b51298"
      },
      "execution_count": 51,
      "outputs": [
        {
          "output_type": "execute_result",
          "data": {
            "text/plain": [
              "       id  Gender   Age  HasDrivingLicense  RegionID  Switch VehicleAge  \\\n",
              "0  332804  Female  39.0                1.0      15.0     0.0   1-2 Year   \n",
              "1  116249    Male  38.0                1.0      11.0     NaN   1-2 Year   \n",
              "2  255006    Male  22.0                1.0      30.0     NaN   < 1 Year   \n",
              "3  317475  Female  23.0                1.0       NaN     NaN   < 1 Year   \n",
              "4  344213    Male  56.0                1.0      48.0     0.0  > 2 Years   \n",
              "\n",
              "  PastAccident AnnualPremium  SalesChannelID  DaysSinceCreated  Result  \n",
              "0          NaN    £2,645.30               55               227       1  \n",
              "1          NaN    £1,151.90               26                29       0  \n",
              "2          NaN    £2,265.90              152               166       0  \n",
              "3          NaN    £1,456.60              151               277       0  \n",
              "4          NaN      £131.50              154               155       0  "
            ],
            "text/html": [
              "\n",
              "  <div id=\"df-af374bb8-1e8c-466a-9fdb-0bef869ff2a0\">\n",
              "    <div class=\"colab-df-container\">\n",
              "      <div>\n",
              "<style scoped>\n",
              "    .dataframe tbody tr th:only-of-type {\n",
              "        vertical-align: middle;\n",
              "    }\n",
              "\n",
              "    .dataframe tbody tr th {\n",
              "        vertical-align: top;\n",
              "    }\n",
              "\n",
              "    .dataframe thead th {\n",
              "        text-align: right;\n",
              "    }\n",
              "</style>\n",
              "<table border=\"1\" class=\"dataframe\">\n",
              "  <thead>\n",
              "    <tr style=\"text-align: right;\">\n",
              "      <th></th>\n",
              "      <th>id</th>\n",
              "      <th>Gender</th>\n",
              "      <th>Age</th>\n",
              "      <th>HasDrivingLicense</th>\n",
              "      <th>RegionID</th>\n",
              "      <th>Switch</th>\n",
              "      <th>VehicleAge</th>\n",
              "      <th>PastAccident</th>\n",
              "      <th>AnnualPremium</th>\n",
              "      <th>SalesChannelID</th>\n",
              "      <th>DaysSinceCreated</th>\n",
              "      <th>Result</th>\n",
              "    </tr>\n",
              "  </thead>\n",
              "  <tbody>\n",
              "    <tr>\n",
              "      <th>0</th>\n",
              "      <td>332804</td>\n",
              "      <td>Female</td>\n",
              "      <td>39.0</td>\n",
              "      <td>1.0</td>\n",
              "      <td>15.0</td>\n",
              "      <td>0.0</td>\n",
              "      <td>1-2 Year</td>\n",
              "      <td>NaN</td>\n",
              "      <td>£2,645.30</td>\n",
              "      <td>55</td>\n",
              "      <td>227</td>\n",
              "      <td>1</td>\n",
              "    </tr>\n",
              "    <tr>\n",
              "      <th>1</th>\n",
              "      <td>116249</td>\n",
              "      <td>Male</td>\n",
              "      <td>38.0</td>\n",
              "      <td>1.0</td>\n",
              "      <td>11.0</td>\n",
              "      <td>NaN</td>\n",
              "      <td>1-2 Year</td>\n",
              "      <td>NaN</td>\n",
              "      <td>£1,151.90</td>\n",
              "      <td>26</td>\n",
              "      <td>29</td>\n",
              "      <td>0</td>\n",
              "    </tr>\n",
              "    <tr>\n",
              "      <th>2</th>\n",
              "      <td>255006</td>\n",
              "      <td>Male</td>\n",
              "      <td>22.0</td>\n",
              "      <td>1.0</td>\n",
              "      <td>30.0</td>\n",
              "      <td>NaN</td>\n",
              "      <td>&lt; 1 Year</td>\n",
              "      <td>NaN</td>\n",
              "      <td>£2,265.90</td>\n",
              "      <td>152</td>\n",
              "      <td>166</td>\n",
              "      <td>0</td>\n",
              "    </tr>\n",
              "    <tr>\n",
              "      <th>3</th>\n",
              "      <td>317475</td>\n",
              "      <td>Female</td>\n",
              "      <td>23.0</td>\n",
              "      <td>1.0</td>\n",
              "      <td>NaN</td>\n",
              "      <td>NaN</td>\n",
              "      <td>&lt; 1 Year</td>\n",
              "      <td>NaN</td>\n",
              "      <td>£1,456.60</td>\n",
              "      <td>151</td>\n",
              "      <td>277</td>\n",
              "      <td>0</td>\n",
              "    </tr>\n",
              "    <tr>\n",
              "      <th>4</th>\n",
              "      <td>344213</td>\n",
              "      <td>Male</td>\n",
              "      <td>56.0</td>\n",
              "      <td>1.0</td>\n",
              "      <td>48.0</td>\n",
              "      <td>0.0</td>\n",
              "      <td>&gt; 2 Years</td>\n",
              "      <td>NaN</td>\n",
              "      <td>£131.50</td>\n",
              "      <td>154</td>\n",
              "      <td>155</td>\n",
              "      <td>0</td>\n",
              "    </tr>\n",
              "  </tbody>\n",
              "</table>\n",
              "</div>\n",
              "      <button class=\"colab-df-convert\" onclick=\"convertToInteractive('df-af374bb8-1e8c-466a-9fdb-0bef869ff2a0')\"\n",
              "              title=\"Convert this dataframe to an interactive table.\"\n",
              "              style=\"display:none;\">\n",
              "        \n",
              "  <svg xmlns=\"http://www.w3.org/2000/svg\" height=\"24px\"viewBox=\"0 0 24 24\"\n",
              "       width=\"24px\">\n",
              "    <path d=\"M0 0h24v24H0V0z\" fill=\"none\"/>\n",
              "    <path d=\"M18.56 5.44l.94 2.06.94-2.06 2.06-.94-2.06-.94-.94-2.06-.94 2.06-2.06.94zm-11 1L8.5 8.5l.94-2.06 2.06-.94-2.06-.94L8.5 2.5l-.94 2.06-2.06.94zm10 10l.94 2.06.94-2.06 2.06-.94-2.06-.94-.94-2.06-.94 2.06-2.06.94z\"/><path d=\"M17.41 7.96l-1.37-1.37c-.4-.4-.92-.59-1.43-.59-.52 0-1.04.2-1.43.59L10.3 9.45l-7.72 7.72c-.78.78-.78 2.05 0 2.83L4 21.41c.39.39.9.59 1.41.59.51 0 1.02-.2 1.41-.59l7.78-7.78 2.81-2.81c.8-.78.8-2.07 0-2.86zM5.41 20L4 18.59l7.72-7.72 1.47 1.35L5.41 20z\"/>\n",
              "  </svg>\n",
              "      </button>\n",
              "      \n",
              "  <style>\n",
              "    .colab-df-container {\n",
              "      display:flex;\n",
              "      flex-wrap:wrap;\n",
              "      gap: 12px;\n",
              "    }\n",
              "\n",
              "    .colab-df-convert {\n",
              "      background-color: #E8F0FE;\n",
              "      border: none;\n",
              "      border-radius: 50%;\n",
              "      cursor: pointer;\n",
              "      display: none;\n",
              "      fill: #1967D2;\n",
              "      height: 32px;\n",
              "      padding: 0 0 0 0;\n",
              "      width: 32px;\n",
              "    }\n",
              "\n",
              "    .colab-df-convert:hover {\n",
              "      background-color: #E2EBFA;\n",
              "      box-shadow: 0px 1px 2px rgba(60, 64, 67, 0.3), 0px 1px 3px 1px rgba(60, 64, 67, 0.15);\n",
              "      fill: #174EA6;\n",
              "    }\n",
              "\n",
              "    [theme=dark] .colab-df-convert {\n",
              "      background-color: #3B4455;\n",
              "      fill: #D2E3FC;\n",
              "    }\n",
              "\n",
              "    [theme=dark] .colab-df-convert:hover {\n",
              "      background-color: #434B5C;\n",
              "      box-shadow: 0px 1px 3px 1px rgba(0, 0, 0, 0.15);\n",
              "      filter: drop-shadow(0px 1px 2px rgba(0, 0, 0, 0.3));\n",
              "      fill: #FFFFFF;\n",
              "    }\n",
              "  </style>\n",
              "\n",
              "      <script>\n",
              "        const buttonEl =\n",
              "          document.querySelector('#df-af374bb8-1e8c-466a-9fdb-0bef869ff2a0 button.colab-df-convert');\n",
              "        buttonEl.style.display =\n",
              "          google.colab.kernel.accessAllowed ? 'block' : 'none';\n",
              "\n",
              "        async function convertToInteractive(key) {\n",
              "          const element = document.querySelector('#df-af374bb8-1e8c-466a-9fdb-0bef869ff2a0');\n",
              "          const dataTable =\n",
              "            await google.colab.kernel.invokeFunction('convertToInteractive',\n",
              "                                                     [key], {});\n",
              "          if (!dataTable) return;\n",
              "\n",
              "          const docLinkHtml = 'Like what you see? Visit the ' +\n",
              "            '<a target=\"_blank\" href=https://colab.research.google.com/notebooks/data_table.ipynb>data table notebook</a>'\n",
              "            + ' to learn more about interactive tables.';\n",
              "          element.innerHTML = '';\n",
              "          dataTable['output_type'] = 'display_data';\n",
              "          await google.colab.output.renderOutput(dataTable, element);\n",
              "          const docLink = document.createElement('div');\n",
              "          docLink.innerHTML = docLinkHtml;\n",
              "          element.appendChild(docLink);\n",
              "        }\n",
              "      </script>\n",
              "    </div>\n",
              "  </div>\n",
              "  "
            ]
          },
          "metadata": {},
          "execution_count": 51
        }
      ]
    },
    {
      "cell_type": "markdown",
      "source": [
        "**DATA EXPLORATION**"
      ],
      "metadata": {
        "id": "ptpX32E_fYP6"
      }
    },
    {
      "cell_type": "code",
      "source": [
        "Data_frame.describe() # Shows the statistics of the dataset"
      ],
      "metadata": {
        "colab": {
          "base_uri": "https://localhost:8080/",
          "height": 300
        },
        "id": "PKvDgtaWgbaH",
        "outputId": "68642977-c50a-4619-f7eb-80274e44fc30"
      },
      "execution_count": 52,
      "outputs": [
        {
          "output_type": "execute_result",
          "data": {
            "text/plain": [
              "                  id            Age  HasDrivingLicense       RegionID  \\\n",
              "count  304887.000000  274339.000000      274399.000000  274334.000000   \n",
              "mean   190594.098072      38.832561           0.997853      26.408892   \n",
              "std    110022.144283      15.504062           0.046281      13.213345   \n",
              "min         1.000000      20.000000           0.000000       0.000000   \n",
              "25%     95342.500000      25.000000           1.000000      15.000000   \n",
              "50%    190639.000000      36.000000           1.000000      28.000000   \n",
              "75%    285785.500000      49.000000           1.000000      35.000000   \n",
              "max    381109.000000      85.000000           1.000000      52.000000   \n",
              "\n",
              "              Switch  SalesChannelID  DaysSinceCreated         Result  \n",
              "count  152557.000000   304887.000000     304887.000000  304887.000000  \n",
              "mean        0.458281      111.966591        154.272609       0.121970  \n",
              "std         0.498258       54.230069         83.642389       0.327251  \n",
              "min         0.000000        1.000000         10.000000       0.000000  \n",
              "25%         0.000000       26.000000         82.000000       0.000000  \n",
              "50%         0.000000      131.000000        154.000000       0.000000  \n",
              "75%         1.000000      152.000000        227.000000       0.000000  \n",
              "max         1.000000      163.000000        299.000000       1.000000  "
            ],
            "text/html": [
              "\n",
              "  <div id=\"df-cfc86822-ed4f-4519-bf22-fc74dc25d140\">\n",
              "    <div class=\"colab-df-container\">\n",
              "      <div>\n",
              "<style scoped>\n",
              "    .dataframe tbody tr th:only-of-type {\n",
              "        vertical-align: middle;\n",
              "    }\n",
              "\n",
              "    .dataframe tbody tr th {\n",
              "        vertical-align: top;\n",
              "    }\n",
              "\n",
              "    .dataframe thead th {\n",
              "        text-align: right;\n",
              "    }\n",
              "</style>\n",
              "<table border=\"1\" class=\"dataframe\">\n",
              "  <thead>\n",
              "    <tr style=\"text-align: right;\">\n",
              "      <th></th>\n",
              "      <th>id</th>\n",
              "      <th>Age</th>\n",
              "      <th>HasDrivingLicense</th>\n",
              "      <th>RegionID</th>\n",
              "      <th>Switch</th>\n",
              "      <th>SalesChannelID</th>\n",
              "      <th>DaysSinceCreated</th>\n",
              "      <th>Result</th>\n",
              "    </tr>\n",
              "  </thead>\n",
              "  <tbody>\n",
              "    <tr>\n",
              "      <th>count</th>\n",
              "      <td>304887.000000</td>\n",
              "      <td>274339.000000</td>\n",
              "      <td>274399.000000</td>\n",
              "      <td>274334.000000</td>\n",
              "      <td>152557.000000</td>\n",
              "      <td>304887.000000</td>\n",
              "      <td>304887.000000</td>\n",
              "      <td>304887.000000</td>\n",
              "    </tr>\n",
              "    <tr>\n",
              "      <th>mean</th>\n",
              "      <td>190594.098072</td>\n",
              "      <td>38.832561</td>\n",
              "      <td>0.997853</td>\n",
              "      <td>26.408892</td>\n",
              "      <td>0.458281</td>\n",
              "      <td>111.966591</td>\n",
              "      <td>154.272609</td>\n",
              "      <td>0.121970</td>\n",
              "    </tr>\n",
              "    <tr>\n",
              "      <th>std</th>\n",
              "      <td>110022.144283</td>\n",
              "      <td>15.504062</td>\n",
              "      <td>0.046281</td>\n",
              "      <td>13.213345</td>\n",
              "      <td>0.498258</td>\n",
              "      <td>54.230069</td>\n",
              "      <td>83.642389</td>\n",
              "      <td>0.327251</td>\n",
              "    </tr>\n",
              "    <tr>\n",
              "      <th>min</th>\n",
              "      <td>1.000000</td>\n",
              "      <td>20.000000</td>\n",
              "      <td>0.000000</td>\n",
              "      <td>0.000000</td>\n",
              "      <td>0.000000</td>\n",
              "      <td>1.000000</td>\n",
              "      <td>10.000000</td>\n",
              "      <td>0.000000</td>\n",
              "    </tr>\n",
              "    <tr>\n",
              "      <th>25%</th>\n",
              "      <td>95342.500000</td>\n",
              "      <td>25.000000</td>\n",
              "      <td>1.000000</td>\n",
              "      <td>15.000000</td>\n",
              "      <td>0.000000</td>\n",
              "      <td>26.000000</td>\n",
              "      <td>82.000000</td>\n",
              "      <td>0.000000</td>\n",
              "    </tr>\n",
              "    <tr>\n",
              "      <th>50%</th>\n",
              "      <td>190639.000000</td>\n",
              "      <td>36.000000</td>\n",
              "      <td>1.000000</td>\n",
              "      <td>28.000000</td>\n",
              "      <td>0.000000</td>\n",
              "      <td>131.000000</td>\n",
              "      <td>154.000000</td>\n",
              "      <td>0.000000</td>\n",
              "    </tr>\n",
              "    <tr>\n",
              "      <th>75%</th>\n",
              "      <td>285785.500000</td>\n",
              "      <td>49.000000</td>\n",
              "      <td>1.000000</td>\n",
              "      <td>35.000000</td>\n",
              "      <td>1.000000</td>\n",
              "      <td>152.000000</td>\n",
              "      <td>227.000000</td>\n",
              "      <td>0.000000</td>\n",
              "    </tr>\n",
              "    <tr>\n",
              "      <th>max</th>\n",
              "      <td>381109.000000</td>\n",
              "      <td>85.000000</td>\n",
              "      <td>1.000000</td>\n",
              "      <td>52.000000</td>\n",
              "      <td>1.000000</td>\n",
              "      <td>163.000000</td>\n",
              "      <td>299.000000</td>\n",
              "      <td>1.000000</td>\n",
              "    </tr>\n",
              "  </tbody>\n",
              "</table>\n",
              "</div>\n",
              "      <button class=\"colab-df-convert\" onclick=\"convertToInteractive('df-cfc86822-ed4f-4519-bf22-fc74dc25d140')\"\n",
              "              title=\"Convert this dataframe to an interactive table.\"\n",
              "              style=\"display:none;\">\n",
              "        \n",
              "  <svg xmlns=\"http://www.w3.org/2000/svg\" height=\"24px\"viewBox=\"0 0 24 24\"\n",
              "       width=\"24px\">\n",
              "    <path d=\"M0 0h24v24H0V0z\" fill=\"none\"/>\n",
              "    <path d=\"M18.56 5.44l.94 2.06.94-2.06 2.06-.94-2.06-.94-.94-2.06-.94 2.06-2.06.94zm-11 1L8.5 8.5l.94-2.06 2.06-.94-2.06-.94L8.5 2.5l-.94 2.06-2.06.94zm10 10l.94 2.06.94-2.06 2.06-.94-2.06-.94-.94-2.06-.94 2.06-2.06.94z\"/><path d=\"M17.41 7.96l-1.37-1.37c-.4-.4-.92-.59-1.43-.59-.52 0-1.04.2-1.43.59L10.3 9.45l-7.72 7.72c-.78.78-.78 2.05 0 2.83L4 21.41c.39.39.9.59 1.41.59.51 0 1.02-.2 1.41-.59l7.78-7.78 2.81-2.81c.8-.78.8-2.07 0-2.86zM5.41 20L4 18.59l7.72-7.72 1.47 1.35L5.41 20z\"/>\n",
              "  </svg>\n",
              "      </button>\n",
              "      \n",
              "  <style>\n",
              "    .colab-df-container {\n",
              "      display:flex;\n",
              "      flex-wrap:wrap;\n",
              "      gap: 12px;\n",
              "    }\n",
              "\n",
              "    .colab-df-convert {\n",
              "      background-color: #E8F0FE;\n",
              "      border: none;\n",
              "      border-radius: 50%;\n",
              "      cursor: pointer;\n",
              "      display: none;\n",
              "      fill: #1967D2;\n",
              "      height: 32px;\n",
              "      padding: 0 0 0 0;\n",
              "      width: 32px;\n",
              "    }\n",
              "\n",
              "    .colab-df-convert:hover {\n",
              "      background-color: #E2EBFA;\n",
              "      box-shadow: 0px 1px 2px rgba(60, 64, 67, 0.3), 0px 1px 3px 1px rgba(60, 64, 67, 0.15);\n",
              "      fill: #174EA6;\n",
              "    }\n",
              "\n",
              "    [theme=dark] .colab-df-convert {\n",
              "      background-color: #3B4455;\n",
              "      fill: #D2E3FC;\n",
              "    }\n",
              "\n",
              "    [theme=dark] .colab-df-convert:hover {\n",
              "      background-color: #434B5C;\n",
              "      box-shadow: 0px 1px 3px 1px rgba(0, 0, 0, 0.15);\n",
              "      filter: drop-shadow(0px 1px 2px rgba(0, 0, 0, 0.3));\n",
              "      fill: #FFFFFF;\n",
              "    }\n",
              "  </style>\n",
              "\n",
              "      <script>\n",
              "        const buttonEl =\n",
              "          document.querySelector('#df-cfc86822-ed4f-4519-bf22-fc74dc25d140 button.colab-df-convert');\n",
              "        buttonEl.style.display =\n",
              "          google.colab.kernel.accessAllowed ? 'block' : 'none';\n",
              "\n",
              "        async function convertToInteractive(key) {\n",
              "          const element = document.querySelector('#df-cfc86822-ed4f-4519-bf22-fc74dc25d140');\n",
              "          const dataTable =\n",
              "            await google.colab.kernel.invokeFunction('convertToInteractive',\n",
              "                                                     [key], {});\n",
              "          if (!dataTable) return;\n",
              "\n",
              "          const docLinkHtml = 'Like what you see? Visit the ' +\n",
              "            '<a target=\"_blank\" href=https://colab.research.google.com/notebooks/data_table.ipynb>data table notebook</a>'\n",
              "            + ' to learn more about interactive tables.';\n",
              "          element.innerHTML = '';\n",
              "          dataTable['output_type'] = 'display_data';\n",
              "          await google.colab.output.renderOutput(dataTable, element);\n",
              "          const docLink = document.createElement('div');\n",
              "          docLink.innerHTML = docLinkHtml;\n",
              "          element.appendChild(docLink);\n",
              "        }\n",
              "      </script>\n",
              "    </div>\n",
              "  </div>\n",
              "  "
            ]
          },
          "metadata": {},
          "execution_count": 52
        }
      ]
    },
    {
      "cell_type": "code",
      "source": [
        "Data_frame.shape"
      ],
      "metadata": {
        "colab": {
          "base_uri": "https://localhost:8080/"
        },
        "id": "k1Dl8E-_gkSJ",
        "outputId": "869350b3-50e1-4fdb-e2f8-fa5c46cc9433"
      },
      "execution_count": 53,
      "outputs": [
        {
          "output_type": "execute_result",
          "data": {
            "text/plain": [
              "(304887, 12)"
            ]
          },
          "metadata": {},
          "execution_count": 53
        }
      ]
    },
    {
      "cell_type": "code",
      "source": [
        "Data_frame.info() # shows the Datatype and non nan value count"
      ],
      "metadata": {
        "colab": {
          "base_uri": "https://localhost:8080/"
        },
        "id": "R0wSivfygpYm",
        "outputId": "b169e037-db1e-4c12-c9af-429d2fd39a7e"
      },
      "execution_count": 54,
      "outputs": [
        {
          "output_type": "stream",
          "name": "stdout",
          "text": [
            "<class 'pandas.core.frame.DataFrame'>\n",
            "RangeIndex: 304887 entries, 0 to 304886\n",
            "Data columns (total 12 columns):\n",
            " #   Column             Non-Null Count   Dtype  \n",
            "---  ------             --------------   -----  \n",
            " 0   id                 304887 non-null  int64  \n",
            " 1   Gender             274460 non-null  object \n",
            " 2   Age                274339 non-null  float64\n",
            " 3   HasDrivingLicense  274399 non-null  float64\n",
            " 4   RegionID           274334 non-null  float64\n",
            " 5   Switch             152557 non-null  float64\n",
            " 6   VehicleAge         274446 non-null  object \n",
            " 7   PastAccident       152422 non-null  object \n",
            " 8   AnnualPremium      304887 non-null  object \n",
            " 9   SalesChannelID     304887 non-null  int64  \n",
            " 10  DaysSinceCreated   304887 non-null  int64  \n",
            " 11  Result             304887 non-null  int64  \n",
            "dtypes: float64(4), int64(4), object(4)\n",
            "memory usage: 27.9+ MB\n"
          ]
        }
      ]
    },
    {
      "cell_type": "code",
      "source": [
        "Data_frame.isnull().sum() # shows the null value count"
      ],
      "metadata": {
        "colab": {
          "base_uri": "https://localhost:8080/"
        },
        "id": "B472JyETg0sX",
        "outputId": "d1c6bb1f-a9ec-4130-f035-e2b0afa6cc28"
      },
      "execution_count": 55,
      "outputs": [
        {
          "output_type": "execute_result",
          "data": {
            "text/plain": [
              "id                        0\n",
              "Gender                30427\n",
              "Age                   30548\n",
              "HasDrivingLicense     30488\n",
              "RegionID              30553\n",
              "Switch               152330\n",
              "VehicleAge            30441\n",
              "PastAccident         152465\n",
              "AnnualPremium             0\n",
              "SalesChannelID            0\n",
              "DaysSinceCreated          0\n",
              "Result                    0\n",
              "dtype: int64"
            ]
          },
          "metadata": {},
          "execution_count": 55
        }
      ]
    },
    {
      "cell_type": "code",
      "source": [
        "Data_frame.isnull().mean()*100  # percentage of null values in Dataset"
      ],
      "metadata": {
        "colab": {
          "base_uri": "https://localhost:8080/"
        },
        "id": "XOcGoDSORTBl",
        "outputId": "7a172d14-b135-49bd-c363-e555dbe9ea70"
      },
      "execution_count": 56,
      "outputs": [
        {
          "output_type": "execute_result",
          "data": {
            "text/plain": [
              "id                    0.000000\n",
              "Gender                9.979763\n",
              "Age                  10.019450\n",
              "HasDrivingLicense     9.999770\n",
              "RegionID             10.021090\n",
              "Switch               49.962773\n",
              "VehicleAge            9.984355\n",
              "PastAccident         50.007052\n",
              "AnnualPremium         0.000000\n",
              "SalesChannelID        0.000000\n",
              "DaysSinceCreated      0.000000\n",
              "Result                0.000000\n",
              "dtype: float64"
            ]
          },
          "metadata": {},
          "execution_count": 56
        }
      ]
    },
    {
      "cell_type": "code",
      "source": [
        "# value count of different columns\n",
        "print(Data_frame.Gender.value_counts())\n",
        "print(Data_frame.HasDrivingLicense.value_counts())\n",
        "print(Data_frame.Switch.value_counts())\n",
        "print(Data_frame.VehicleAge.value_counts())\n",
        "print(Data_frame.PastAccident.value_counts())\n",
        "print(Data_frame.Result.value_counts())"
      ],
      "metadata": {
        "colab": {
          "base_uri": "https://localhost:8080/"
        },
        "id": "70XgtEXSJixS",
        "outputId": "3575b29f-e8c5-4d72-a5c0-380e38a80ce0"
      },
      "execution_count": 57,
      "outputs": [
        {
          "output_type": "stream",
          "name": "stdout",
          "text": [
            "Male      148391\n",
            "Female    126069\n",
            "Name: Gender, dtype: int64\n",
            "1.0    273810\n",
            "0.0       589\n",
            "Name: HasDrivingLicense, dtype: int64\n",
            "0.0    82643\n",
            "1.0    69914\n",
            "Name: Switch, dtype: int64\n",
            "1-2 Year     144374\n",
            "< 1 Year     118528\n",
            "> 2 Years     11544\n",
            "Name: VehicleAge, dtype: int64\n",
            "Yes    76976\n",
            "No     75446\n",
            "Name: PastAccident, dtype: int64\n",
            "0    267700\n",
            "1     37187\n",
            "Name: Result, dtype: int64\n"
          ]
        }
      ]
    },
    {
      "cell_type": "markdown",
      "source": [
        "**DATA VISUALIZATIONS**"
      ],
      "metadata": {
        "id": "vHvCVK9gizkA"
      }
    },
    {
      "cell_type": "code",
      "source": [
        "def cat_plot(colm):              # to check the value count of the categorical columns\n",
        "  plt.Figure(figsize=(20,8),)\n",
        "  plt.title('Title for '+ colm)\n",
        "  sns.countplot(Data_frame[colm])\n",
        "  plt.show()"
      ],
      "metadata": {
        "id": "RaSpZT7-iZUM"
      },
      "execution_count": 58,
      "outputs": []
    },
    {
      "cell_type": "code",
      "source": [
        "cat_plot('Gender')\n",
        "cat_plot('VehicleAge')\n",
        "cat_plot('PastAccident')"
      ],
      "metadata": {
        "colab": {
          "base_uri": "https://localhost:8080/",
          "height": 851
        },
        "id": "Hkxy5dxwjMTJ",
        "outputId": "65759e83-b677-497e-ad3e-2eca9992f4bd"
      },
      "execution_count": 59,
      "outputs": [
        {
          "output_type": "display_data",
          "data": {
            "text/plain": [
              "<Figure size 432x288 with 1 Axes>"
            ],
            "image/png": "[encoded data removed]"
          },
          "metadata": {
            "needs_background": "light"
          }
        },
        {
          "output_type": "display_data",
          "data": {
            "text/plain": [
              "<Figure size 432x288 with 1 Axes>"
            ],
            "image/png": "[encoded data removed]"
          },
          "metadata": {
            "needs_background": "light"
          }
        },
        {
          "output_type": "display_data",
          "data": {
            "text/plain": [
              "<Figure size 432x288 with 1 Axes>"
            ],
            "image/png": "[encoded data removed]"
          },
          "metadata": {
            "needs_background": "light"
          }
        }
      ]
    },
    {
      "cell_type": "code",
      "source": [
        "def compare_wt_result(col):      # to compare categorical columns with result\n",
        "  plt.Figure(figsize=(14,6))\n",
        "  plt.title('plot - Result VS '+col)\n",
        "  sns.countplot(Data_frame[col], hue= Data_frame['Result'])\n",
        "  plt.show()"
      ],
      "metadata": {
        "id": "Y5mivJn5mkMa"
      },
      "execution_count": 60,
      "outputs": []
    },
    {
      "cell_type": "code",
      "source": [
        "compare_wt_result('Gender')\n",
        "compare_wt_result('VehicleAge')\n",
        "compare_wt_result('PastAccident')"
      ],
      "metadata": {
        "colab": {
          "base_uri": "https://localhost:8080/",
          "height": 851
        },
        "id": "qv9u0hIXo6U-",
        "outputId": "5ec50233-8448-44f3-f228-a66abc1cf122"
      },
      "execution_count": 61,
      "outputs": [
        {
          "output_type": "display_data",
          "data": {
            "text/plain": [
              "<Figure size 432x288 with 1 Axes>"
            ],
            "image/png": "[encoded data removed]"
          },
          "metadata": {
            "needs_background": "light"
          }
        },
        {
          "output_type": "display_data",
          "data": {
            "text/plain": [
              "<Figure size 432x288 with 1 Axes>"
            ],
            "image/png": "[encoded data removed]"
          },
          "metadata": {
            "needs_background": "light"
          }
        },
        {
          "output_type": "display_data",
          "data": {
            "text/plain": [
              "<Figure size 432x288 with 1 Axes>"
            ],
            "image/png": "[encoded data removed]"
          },
          "metadata": {
            "needs_background": "light"
          }
        }
      ]
    },
    {
      "cell_type": "code",
      "source": [
        "def displot(colm):                   # to check the distribution of the numerical columns\n",
        "  sns.distplot(Data_frame[colm])\n",
        "  plt.show()"
      ],
      "metadata": {
        "id": "-_xm5j3XoyZW"
      },
      "execution_count": 62,
      "outputs": []
    },
    {
      "cell_type": "code",
      "source": [
        "displot('Age')\n",
        "displot('RegionID')"
      ],
      "metadata": {
        "colab": {
          "base_uri": "https://localhost:8080/",
          "height": 541
        },
        "id": "9-67YijWoybj",
        "outputId": "23e72b1d-5e21-41b7-f010-585987d96a9b"
      },
      "execution_count": 63,
      "outputs": [
        {
          "output_type": "display_data",
          "data": {
            "text/plain": [
              "<Figure size 432x288 with 1 Axes>"
            ],
            "image/png": "[encoded data removed]"
          },
          "metadata": {
            "needs_background": "light"
          }
        },
        {
          "output_type": "display_data",
          "data": {
            "text/plain": [
              "<Figure size 432x288 with 1 Axes>"
            ],
            "image/png": "[encoded data removed]"
          },
          "metadata": {
            "needs_background": "light"
          }
        }
      ]
    },
    {
      "cell_type": "code",
      "source": [
        "def boxplot(colm):                  # to check the outliers in the columns\n",
        "  sns.boxplot(Data_frame[colm])\n",
        "  plt.show()"
      ],
      "metadata": {
        "id": "rhVUQcJ-oyd2"
      },
      "execution_count": 64,
      "outputs": []
    },
    {
      "cell_type": "code",
      "source": [
        "boxplot('Age')\n",
        "boxplot('RegionID')\n",
        "boxplot('SalesChannelID')\n",
        "boxplot('DaysSinceCreated')"
      ],
      "metadata": {
        "colab": {
          "base_uri": "https://localhost:8080/",
          "height": 1000
        },
        "id": "EuzWEk56oygY",
        "outputId": "0a0e9636-1ac3-4275-edb8-530f23df070d"
      },
      "execution_count": 65,
      "outputs": [
        {
          "output_type": "display_data",
          "data": {
            "text/plain": [
              "<Figure size 432x288 with 1 Axes>"
            ],
            "image/png": "[encoded data removed]"
          },
          "metadata": {
            "needs_background": "light"
          }
        },
        {
          "output_type": "display_data",
          "data": {
            "text/plain": [
              "<Figure size 432x288 with 1 Axes>"
            ],
            "image/png": "[encoded data removed]"
          },
          "metadata": {
            "needs_background": "light"
          }
        },
        {
          "output_type": "display_data",
          "data": {
            "text/plain": [
              "<Figure size 432x288 with 1 Axes>"
            ],
            "image/png": "[encoded data removed]"
          },
          "metadata": {
            "needs_background": "light"
          }
        },
        {
          "output_type": "display_data",
          "data": {
            "text/plain": [
              "<Figure size 432x288 with 1 Axes>"
            ],
            "image/png": "[encoded data removed]"
          },
          "metadata": {
            "needs_background": "light"
          }
        }
      ]
    },
    {
      "cell_type": "code",
      "source": [
        "Data_frame.cov()"
      ],
      "metadata": {
        "colab": {
          "base_uri": "https://localhost:8080/",
          "height": 300
        },
        "id": "aMUsSN0Loyi4",
        "outputId": "a58aec58-82ff-4c9f-870e-69fca0753042"
      },
      "execution_count": 66,
      "outputs": [
        {
          "output_type": "execute_result",
          "data": {
            "text/plain": [
              "                             id          Age  HasDrivingLicense     RegionID  \\\n",
              "id                 1.210487e+10  5235.774604         -11.309192 -1787.769843   \n",
              "Age                5.235775e+03   240.375944          -0.057770     8.738226   \n",
              "HasDrivingLicense -1.130919e+01    -0.057770           0.002142    -0.001266   \n",
              "RegionID          -1.787770e+03     8.738226          -0.001266   174.592486   \n",
              "Switch            -8.691441e+00    -1.986906           0.000277    -0.124046   \n",
              "SalesChannelID    -1.864114e+04  -484.475637           0.109996   -30.469553   \n",
              "DaysSinceCreated   1.923145e+03    -2.898512          -0.005627    -4.701065   \n",
              "Result            -9.090254e+01     0.568238           0.000145     0.051690   \n",
              "\n",
              "                     Switch  SalesChannelID  DaysSinceCreated     Result  \n",
              "id                -8.691441   -18641.138750       1923.144719 -90.902541  \n",
              "Age               -1.986906     -484.475637         -2.898512   0.568238  \n",
              "HasDrivingLicense  0.000277        0.109996         -0.005627   0.000145  \n",
              "RegionID          -0.124046      -30.469553         -4.701065   0.051690  \n",
              "Switch             0.248261        5.933840          0.088192  -0.054812  \n",
              "SalesChannelID     5.933840     2940.900355         -0.574547  -2.440783  \n",
              "DaysSinceCreated   0.088192       -0.574547       6996.049274  -0.028065  \n",
              "Result            -0.054812       -2.440783         -0.028065   0.107094  "
            ],
            "text/html": [
              "\n",
              "  <div id=\"df-4f318e73-2c8d-4412-aabc-f915eeebb05b\">\n",
              "    <div class=\"colab-df-container\">\n",
              "      <div>\n",
              "<style scoped>\n",
              "    .dataframe tbody tr th:only-of-type {\n",
              "        vertical-align: middle;\n",
              "    }\n",
              "\n",
              "    .dataframe tbody tr th {\n",
              "        vertical-align: top;\n",
              "    }\n",
              "\n",
              "    .dataframe thead th {\n",
              "        text-align: right;\n",
              "    }\n",
              "</style>\n",
              "<table border=\"1\" class=\"dataframe\">\n",
              "  <thead>\n",
              "    <tr style=\"text-align: right;\">\n",
              "      <th></th>\n",
              "      <th>id</th>\n",
              "      <th>Age</th>\n",
              "      <th>HasDrivingLicense</th>\n",
              "      <th>RegionID</th>\n",
              "      <th>Switch</th>\n",
              "      <th>SalesChannelID</th>\n",
              "      <th>DaysSinceCreated</th>\n",
              "      <th>Result</th>\n",
              "    </tr>\n",
              "  </thead>\n",
              "  <tbody>\n",
              "    <tr>\n",
              "      <th>id</th>\n",
              "      <td>1.210487e+10</td>\n",
              "      <td>5235.774604</td>\n",
              "      <td>-11.309192</td>\n",
              "      <td>-1787.769843</td>\n",
              "      <td>-8.691441</td>\n",
              "      <td>-18641.138750</td>\n",
              "      <td>1923.144719</td>\n",
              "      <td>-90.902541</td>\n",
              "    </tr>\n",
              "    <tr>\n",
              "      <th>Age</th>\n",
              "      <td>5.235775e+03</td>\n",
              "      <td>240.375944</td>\n",
              "      <td>-0.057770</td>\n",
              "      <td>8.738226</td>\n",
              "      <td>-1.986906</td>\n",
              "      <td>-484.475637</td>\n",
              "      <td>-2.898512</td>\n",
              "      <td>0.568238</td>\n",
              "    </tr>\n",
              "    <tr>\n",
              "      <th>HasDrivingLicense</th>\n",
              "      <td>-1.130919e+01</td>\n",
              "      <td>-0.057770</td>\n",
              "      <td>0.002142</td>\n",
              "      <td>-0.001266</td>\n",
              "      <td>0.000277</td>\n",
              "      <td>0.109996</td>\n",
              "      <td>-0.005627</td>\n",
              "      <td>0.000145</td>\n",
              "    </tr>\n",
              "    <tr>\n",
              "      <th>RegionID</th>\n",
              "      <td>-1.787770e+03</td>\n",
              "      <td>8.738226</td>\n",
              "      <td>-0.001266</td>\n",
              "      <td>174.592486</td>\n",
              "      <td>-0.124046</td>\n",
              "      <td>-30.469553</td>\n",
              "      <td>-4.701065</td>\n",
              "      <td>0.051690</td>\n",
              "    </tr>\n",
              "    <tr>\n",
              "      <th>Switch</th>\n",
              "      <td>-8.691441e+00</td>\n",
              "      <td>-1.986906</td>\n",
              "      <td>0.000277</td>\n",
              "      <td>-0.124046</td>\n",
              "      <td>0.248261</td>\n",
              "      <td>5.933840</td>\n",
              "      <td>0.088192</td>\n",
              "      <td>-0.054812</td>\n",
              "    </tr>\n",
              "    <tr>\n",
              "      <th>SalesChannelID</th>\n",
              "      <td>-1.864114e+04</td>\n",
              "      <td>-484.475637</td>\n",
              "      <td>0.109996</td>\n",
              "      <td>-30.469553</td>\n",
              "      <td>5.933840</td>\n",
              "      <td>2940.900355</td>\n",
              "      <td>-0.574547</td>\n",
              "      <td>-2.440783</td>\n",
              "    </tr>\n",
              "    <tr>\n",
              "      <th>DaysSinceCreated</th>\n",
              "      <td>1.923145e+03</td>\n",
              "      <td>-2.898512</td>\n",
              "      <td>-0.005627</td>\n",
              "      <td>-4.701065</td>\n",
              "      <td>0.088192</td>\n",
              "      <td>-0.574547</td>\n",
              "      <td>6996.049274</td>\n",
              "      <td>-0.028065</td>\n",
              "    </tr>\n",
              "    <tr>\n",
              "      <th>Result</th>\n",
              "      <td>-9.090254e+01</td>\n",
              "      <td>0.568238</td>\n",
              "      <td>0.000145</td>\n",
              "      <td>0.051690</td>\n",
              "      <td>-0.054812</td>\n",
              "      <td>-2.440783</td>\n",
              "      <td>-0.028065</td>\n",
              "      <td>0.107094</td>\n",
              "    </tr>\n",
              "  </tbody>\n",
              "</table>\n",
              "</div>\n",
              "      <button class=\"colab-df-convert\" onclick=\"convertToInteractive('df-4f318e73-2c8d-4412-aabc-f915eeebb05b')\"\n",
              "              title=\"Convert this dataframe to an interactive table.\"\n",
              "              style=\"display:none;\">\n",
              "        \n",
              "  <svg xmlns=\"http://www.w3.org/2000/svg\" height=\"24px\"viewBox=\"0 0 24 24\"\n",
              "       width=\"24px\">\n",
              "    <path d=\"M0 0h24v24H0V0z\" fill=\"none\"/>\n",
              "    <path d=\"M18.56 5.44l.94 2.06.94-2.06 2.06-.94-2.06-.94-.94-2.06-.94 2.06-2.06.94zm-11 1L8.5 8.5l.94-2.06 2.06-.94-2.06-.94L8.5 2.5l-.94 2.06-2.06.94zm10 10l.94 2.06.94-2.06 2.06-.94-2.06-.94-.94-2.06-.94 2.06-2.06.94z\"/><path d=\"M17.41 7.96l-1.37-1.37c-.4-.4-.92-.59-1.43-.59-.52 0-1.04.2-1.43.59L10.3 9.45l-7.72 7.72c-.78.78-.78 2.05 0 2.83L4 21.41c.39.39.9.59 1.41.59.51 0 1.02-.2 1.41-.59l7.78-7.78 2.81-2.81c.8-.78.8-2.07 0-2.86zM5.41 20L4 18.59l7.72-7.72 1.47 1.35L5.41 20z\"/>\n",
              "  </svg>\n",
              "      </button>\n",
              "      \n",
              "  <style>\n",
              "    .colab-df-container {\n",
              "      display:flex;\n",
              "      flex-wrap:wrap;\n",
              "      gap: 12px;\n",
              "    }\n",
              "\n",
              "    .colab-df-convert {\n",
              "      background-color: #E8F0FE;\n",
              "      border: none;\n",
              "      border-radius: 50%;\n",
              "      cursor: pointer;\n",
              "      display: none;\n",
              "      fill: #1967D2;\n",
              "      height: 32px;\n",
              "      padding: 0 0 0 0;\n",
              "      width: 32px;\n",
              "    }\n",
              "\n",
              "    .colab-df-convert:hover {\n",
              "      background-color: #E2EBFA;\n",
              "      box-shadow: 0px 1px 2px rgba(60, 64, 67, 0.3), 0px 1px 3px 1px rgba(60, 64, 67, 0.15);\n",
              "      fill: #174EA6;\n",
              "    }\n",
              "\n",
              "    [theme=dark] .colab-df-convert {\n",
              "      background-color: #3B4455;\n",
              "      fill: #D2E3FC;\n",
              "    }\n",
              "\n",
              "    [theme=dark] .colab-df-convert:hover {\n",
              "      background-color: #434B5C;\n",
              "      box-shadow: 0px 1px 3px 1px rgba(0, 0, 0, 0.15);\n",
              "      filter: drop-shadow(0px 1px 2px rgba(0, 0, 0, 0.3));\n",
              "      fill: #FFFFFF;\n",
              "    }\n",
              "  </style>\n",
              "\n",
              "      <script>\n",
              "        const buttonEl =\n",
              "          document.querySelector('#df-4f318e73-2c8d-4412-aabc-f915eeebb05b button.colab-df-convert');\n",
              "        buttonEl.style.display =\n",
              "          google.colab.kernel.accessAllowed ? 'block' : 'none';\n",
              "\n",
              "        async function convertToInteractive(key) {\n",
              "          const element = document.querySelector('#df-4f318e73-2c8d-4412-aabc-f915eeebb05b');\n",
              "          const dataTable =\n",
              "            await google.colab.kernel.invokeFunction('convertToInteractive',\n",
              "                                                     [key], {});\n",
              "          if (!dataTable) return;\n",
              "\n",
              "          const docLinkHtml = 'Like what you see? Visit the ' +\n",
              "            '<a target=\"_blank\" href=https://colab.research.google.com/notebooks/data_table.ipynb>data table notebook</a>'\n",
              "            + ' to learn more about interactive tables.';\n",
              "          element.innerHTML = '';\n",
              "          dataTable['output_type'] = 'display_data';\n",
              "          await google.colab.output.renderOutput(dataTable, element);\n",
              "          const docLink = document.createElement('div');\n",
              "          docLink.innerHTML = docLinkHtml;\n",
              "          element.appendChild(docLink);\n",
              "        }\n",
              "      </script>\n",
              "    </div>\n",
              "  </div>\n",
              "  "
            ]
          },
          "metadata": {},
          "execution_count": 66
        }
      ]
    },
    {
      "cell_type": "code",
      "source": [
        "print(Data_frame.corr())       # to check the correlation between columns\n",
        "plt.figure(figsize=(10,10))\n",
        "sns.heatmap(Data_frame.corr(), vmax=0.9, square=True, annot=True, linewidths=0.3, cmap=\"YlGnBu\", fmt=\".1f\")"
      ],
      "metadata": {
        "colab": {
          "base_uri": "https://localhost:8080/",
          "height": 973
        },
        "id": "dU5Im0Y2oylj",
        "outputId": "8a914d4c-6dec-45a4-def0-f97bae5a86b3"
      },
      "execution_count": 67,
      "outputs": [
        {
          "output_type": "stream",
          "name": "stdout",
          "text": [
            "                         id       Age  HasDrivingLicense  RegionID    Switch  \\\n",
            "id                 1.000000  0.003069          -0.002220 -0.001230 -0.000159   \n",
            "Age                0.003069  1.000000          -0.080243  0.042637 -0.257237   \n",
            "HasDrivingLicense -0.002220 -0.080243           1.000000 -0.002070  0.011623   \n",
            "RegionID          -0.001230  0.042637          -0.002070  1.000000 -0.018831   \n",
            "Switch            -0.000159 -0.257237           0.011623 -0.018831  1.000000   \n",
            "SalesChannelID    -0.003124 -0.576164           0.043844 -0.042514  0.219808   \n",
            "DaysSinceCreated   0.000209 -0.002235          -0.001453 -0.004254  0.002117   \n",
            "Result            -0.002525  0.111939           0.009580  0.011969 -0.337895   \n",
            "\n",
            "                   SalesChannelID  DaysSinceCreated    Result  \n",
            "id                      -0.003124          0.000209 -0.002525  \n",
            "Age                     -0.576164         -0.002235  0.111939  \n",
            "HasDrivingLicense        0.043844         -0.001453  0.009580  \n",
            "RegionID                -0.042514         -0.004254  0.011969  \n",
            "Switch                   0.219808          0.002117 -0.337895  \n",
            "SalesChannelID           1.000000         -0.000127 -0.137533  \n",
            "DaysSinceCreated        -0.000127          1.000000 -0.001025  \n",
            "Result                  -0.137533         -0.001025  1.000000  \n"
          ]
        },
        {
          "output_type": "execute_result",
          "data": {
            "text/plain": [
              "<matplotlib.axes._subplots.AxesSubplot at 0x7f8a60212280>"
            ]
          },
          "metadata": {},
          "execution_count": 67
        },
        {
          "output_type": "display_data",
          "data": {
            "text/plain": [
              "<Figure size 720x720 with 2 Axes>"
            ],
            "image/png": "[encoded data removed]"
          },
          "metadata": {
            "needs_background": "light"
          }
        }
      ]
    },
    {
      "cell_type": "markdown",
      "source": [
        "**DATA PREPROCESSING**"
      ],
      "metadata": {
        "id": "u2JkuKyJjnWH"
      }
    },
    {
      "cell_type": "code",
      "source": [
        "# Here we try deleting all the NaN instances and checking the new size of the dataset\n",
        "print('Data size BEFORE deleteting instances with missing values: ', Data_frame.shape)\n",
        "New_Data_frame = Data_frame.dropna(subset=['Gender', 'Age', 'HasDrivingLicense', 'RegionID', 'Switch', 'VehicleAge', 'PastAccident'])\n",
        "print('\\nData size AFTER deleteting instances containing missing values: ', New_Data_frame.shape)\n",
        "New_Data_frame.isna().sum()"
      ],
      "metadata": {
        "colab": {
          "base_uri": "https://localhost:8080/"
        },
        "id": "1HhcA03TAbk-",
        "outputId": "730099ca-b71c-4285-9c95-41f85fb9edd4"
      },
      "execution_count": 68,
      "outputs": [
        {
          "output_type": "stream",
          "name": "stdout",
          "text": [
            "Data size BEFORE deleteting instances with missing values:  (304887, 12)\n",
            "\n",
            "Data size AFTER deleteting instances containing missing values:  (45065, 12)\n"
          ]
        },
        {
          "output_type": "execute_result",
          "data": {
            "text/plain": [
              "id                   0\n",
              "Gender               0\n",
              "Age                  0\n",
              "HasDrivingLicense    0\n",
              "RegionID             0\n",
              "Switch               0\n",
              "VehicleAge           0\n",
              "PastAccident         0\n",
              "AnnualPremium        0\n",
              "SalesChannelID       0\n",
              "DaysSinceCreated     0\n",
              "Result               0\n",
              "dtype: int64"
            ]
          },
          "metadata": {},
          "execution_count": 68
        }
      ]
    },
    {
      "cell_type": "markdown",
      "source": [
        "**Here we see that almost 90% of data is lost after removing NaN instances hence we take a different approach**"
      ],
      "metadata": {
        "id": "r3J6n4LFYyge"
      }
    },
    {
      "cell_type": "code",
      "source": [
        "# REMOVING SPECIAL CHARACTER FROM COLUMN \n",
        "Data_frame[Data_frame.columns[8]] = Data_frame[Data_frame.columns[8]].replace('[\\£,]', '', regex=True).astype(float) "
      ],
      "metadata": {
        "id": "PFBFXfeTjz2K"
      },
      "execution_count": 69,
      "outputs": []
    },
    {
      "cell_type": "markdown",
      "source": [
        "Dealing with null values \n",
        "\n",
        "\n",
        "1.   'Age', 'RegionID', 'Switch' and  'HasDrivingLicense' null values can be replaced by \"median\" values.\n",
        "2.   Gender', 'VehicleAge' and 'PastAccident' can be replaced by \"most frequent\" values\n",
        "\n"
      ],
      "metadata": {
        "id": "mGwy3V_dkTH_"
      }
    },
    {
      "cell_type": "code",
      "source": [
        "Data_frame[\"Age\"].fillna(Data_frame[\"Age\"].median(), inplace=True)\n",
        "print('After filling missing values of Age\\n', Data_frame.isna().sum())"
      ],
      "metadata": {
        "colab": {
          "base_uri": "https://localhost:8080/"
        },
        "id": "e8nkiTwxAbpg",
        "outputId": "b6888e22-975a-4fda-bf9d-eb0bccc0a140"
      },
      "execution_count": 70,
      "outputs": [
        {
          "output_type": "stream",
          "name": "stdout",
          "text": [
            "After filling missing values of Age\n",
            " id                        0\n",
            "Gender                30427\n",
            "Age                       0\n",
            "HasDrivingLicense     30488\n",
            "RegionID              30553\n",
            "Switch               152330\n",
            "VehicleAge            30441\n",
            "PastAccident         152465\n",
            "AnnualPremium             0\n",
            "SalesChannelID            0\n",
            "DaysSinceCreated          0\n",
            "Result                    0\n",
            "dtype: int64\n"
          ]
        }
      ]
    },
    {
      "cell_type": "code",
      "source": [
        "Data_frame[\"RegionID\"].fillna(Data_frame[\"RegionID\"].median(), inplace=True)\n",
        "print('After filling missing values of RegionID\\n', Data_frame.isna().sum())"
      ],
      "metadata": {
        "colab": {
          "base_uri": "https://localhost:8080/"
        },
        "id": "sAn0uyKtAbwv",
        "outputId": "94c8d8db-1004-4aec-80d0-35f3deeb510d"
      },
      "execution_count": 71,
      "outputs": [
        {
          "output_type": "stream",
          "name": "stdout",
          "text": [
            "After filling missing values of RegionID\n",
            " id                        0\n",
            "Gender                30427\n",
            "Age                       0\n",
            "HasDrivingLicense     30488\n",
            "RegionID                  0\n",
            "Switch               152330\n",
            "VehicleAge            30441\n",
            "PastAccident         152465\n",
            "AnnualPremium             0\n",
            "SalesChannelID            0\n",
            "DaysSinceCreated          0\n",
            "Result                    0\n",
            "dtype: int64\n"
          ]
        }
      ]
    },
    {
      "cell_type": "code",
      "source": [
        "Data_frame[\"HasDrivingLicense\"].fillna(Data_frame[\"HasDrivingLicense\"].median(), inplace=True)\n",
        "print('After filling missing values of HasDrivingLicense\\n', Data_frame.isna().sum())"
      ],
      "metadata": {
        "colab": {
          "base_uri": "https://localhost:8080/"
        },
        "id": "s7GzCrAeAby4",
        "outputId": "d7efd13e-4fd5-426d-b5d2-b7c25d7965ce"
      },
      "execution_count": 72,
      "outputs": [
        {
          "output_type": "stream",
          "name": "stdout",
          "text": [
            "After filling missing values of HasDrivingLicense\n",
            " id                        0\n",
            "Gender                30427\n",
            "Age                       0\n",
            "HasDrivingLicense         0\n",
            "RegionID                  0\n",
            "Switch               152330\n",
            "VehicleAge            30441\n",
            "PastAccident         152465\n",
            "AnnualPremium             0\n",
            "SalesChannelID            0\n",
            "DaysSinceCreated          0\n",
            "Result                    0\n",
            "dtype: int64\n"
          ]
        }
      ]
    },
    {
      "cell_type": "code",
      "source": [
        "Data_frame[\"Switch\"].fillna(Data_frame[\"Switch\"].median(), inplace=True)\n",
        "print('After filling missing values of Switch\\n', Data_frame.isna().sum())"
      ],
      "metadata": {
        "colab": {
          "base_uri": "https://localhost:8080/"
        },
        "id": "0fwjUAPSAb2R",
        "outputId": "d1d5910f-2dc0-4f00-fff0-0ebcd46fefe5"
      },
      "execution_count": 73,
      "outputs": [
        {
          "output_type": "stream",
          "name": "stdout",
          "text": [
            "After filling missing values of Switch\n",
            " id                        0\n",
            "Gender                30427\n",
            "Age                       0\n",
            "HasDrivingLicense         0\n",
            "RegionID                  0\n",
            "Switch                    0\n",
            "VehicleAge            30441\n",
            "PastAccident         152465\n",
            "AnnualPremium             0\n",
            "SalesChannelID            0\n",
            "DaysSinceCreated          0\n",
            "Result                    0\n",
            "dtype: int64\n"
          ]
        }
      ]
    },
    {
      "cell_type": "markdown",
      "source": [],
      "metadata": {
        "id": "AvHjO9i3o9dZ"
      }
    },
    {
      "cell_type": "code",
      "source": [
        "# Since we have already replaced all the numeric values with median we will now impute \n",
        "# the non numeric values with the most_frequent values of the respective columns\n",
        "from sklearn.impute import SimpleImputer \n",
        "\n",
        "imputer = SimpleImputer(strategy=\"most_frequent\")\n",
        "imputer.fit(Data_frame)\n",
        "endcoded_colm = pd.DataFrame(imputer.transform(Data_frame), columns = Data_frame.columns)\n",
        "\n",
        "print(endcoded_colm.shape)\n",
        "print(pd.DataFrame(endcoded_colm).isna().sum())\n",
        "pd.DataFrame(endcoded_colm).info()"
      ],
      "metadata": {
        "colab": {
          "base_uri": "https://localhost:8080/"
        },
        "id": "IDbl57lfYq7r",
        "outputId": "b70d6d01-0c58-4a03-a80d-2e706b8aa6f3"
      },
      "execution_count": 74,
      "outputs": [
        {
          "output_type": "stream",
          "name": "stdout",
          "text": [
            "(304887, 12)\n",
            "id                   0\n",
            "Gender               0\n",
            "Age                  0\n",
            "HasDrivingLicense    0\n",
            "RegionID             0\n",
            "Switch               0\n",
            "VehicleAge           0\n",
            "PastAccident         0\n",
            "AnnualPremium        0\n",
            "SalesChannelID       0\n",
            "DaysSinceCreated     0\n",
            "Result               0\n",
            "dtype: int64\n",
            "<class 'pandas.core.frame.DataFrame'>\n",
            "RangeIndex: 304887 entries, 0 to 304886\n",
            "Data columns (total 12 columns):\n",
            " #   Column             Non-Null Count   Dtype \n",
            "---  ------             --------------   ----- \n",
            " 0   id                 304887 non-null  object\n",
            " 1   Gender             304887 non-null  object\n",
            " 2   Age                304887 non-null  object\n",
            " 3   HasDrivingLicense  304887 non-null  object\n",
            " 4   RegionID           304887 non-null  object\n",
            " 5   Switch             304887 non-null  object\n",
            " 6   VehicleAge         304887 non-null  object\n",
            " 7   PastAccident       304887 non-null  object\n",
            " 8   AnnualPremium      304887 non-null  object\n",
            " 9   SalesChannelID     304887 non-null  object\n",
            " 10  DaysSinceCreated   304887 non-null  object\n",
            " 11  Result             304887 non-null  object\n",
            "dtypes: object(12)\n",
            "memory usage: 27.9+ MB\n"
          ]
        }
      ]
    },
    {
      "cell_type": "code",
      "source": [
        "Data_frame = pd.DataFrame(endcoded_colm)"
      ],
      "metadata": {
        "id": "yeeU822qmT1K"
      },
      "execution_count": 75,
      "outputs": []
    },
    {
      "cell_type": "code",
      "source": [
        "data_types_dict = {'id': int , 'Age': float, 'HasDrivingLicense': float, 'RegionID': float, 'Switch': float, 'SalesChannelID': int, 'DaysSinceCreated': int, 'Result': int}\n",
        "Data_frame = Data_frame.astype(data_types_dict)\n",
        "Data_frame.dtypes\n"
      ],
      "metadata": {
        "colab": {
          "base_uri": "https://localhost:8080/"
        },
        "id": "QbeoOUXMmT7Z",
        "outputId": "b5d42dbf-3c9f-4f43-f47f-d3e622fa2afe"
      },
      "execution_count": 76,
      "outputs": [
        {
          "output_type": "execute_result",
          "data": {
            "text/plain": [
              "id                     int64\n",
              "Gender                object\n",
              "Age                  float64\n",
              "HasDrivingLicense    float64\n",
              "RegionID             float64\n",
              "Switch               float64\n",
              "VehicleAge            object\n",
              "PastAccident          object\n",
              "AnnualPremium         object\n",
              "SalesChannelID         int64\n",
              "DaysSinceCreated       int64\n",
              "Result                 int64\n",
              "dtype: object"
            ]
          },
          "metadata": {},
          "execution_count": 76
        }
      ]
    },
    {
      "cell_type": "markdown",
      "source": [
        "Used one hot encoder for conversion of categorical information into a format that may be fed into machine learning algorithms to improve prediction accuracy."
      ],
      "metadata": {
        "id": "0_EhexIWpEhD"
      }
    },
    {
      "cell_type": "code",
      "source": [
        "# Here we are performing one hot encoding on 'Gender', 'VehicleAge' and 'PastAccident'\n",
        "from sklearn.preprocessing import OneHotEncoder\n",
        "enc = OneHotEncoder(drop='first', sparse=False)\n",
        "# Creating a temperory variable to store the columns\n",
        "Data_frame_temp = Data_frame[['Gender', 'VehicleAge', 'PastAccident']]\n",
        "print(Data_frame_temp.head())\n",
        "enc.fit(Data_frame_temp)\n",
        "# Storing the encoded columns in Data_frame_enc\n",
        "Data_frame_enc = pd.DataFrame(enc.transform(Data_frame_temp))\n",
        "print(Data_frame_enc.shape)\n",
        "\n",
        "print('\\n---The data after one hot encoding---\\n', Data_frame_enc.head())\n",
        "\n",
        "# Concatenating the rest of the columns to the encoded columns\n",
        "Data_frame_enc = pd.concat([Data_frame_enc, Data_frame[['id', 'Age', 'HasDrivingLicense', 'RegionID', 'Switch', 'AnnualPremium', 'SalesChannelID', 'DaysSinceCreated', 'Result']]], axis=1)\n",
        "Data_frame_enc.head()"
      ],
      "metadata": {
        "colab": {
          "base_uri": "https://localhost:8080/",
          "height": 467
        },
        "id": "qOfwu940YrA7",
        "outputId": "baa67839-97ba-4ac5-b251-1cad4bcdbb30"
      },
      "execution_count": 77,
      "outputs": [
        {
          "output_type": "stream",
          "name": "stdout",
          "text": [
            "   Gender VehicleAge PastAccident\n",
            "0  Female   1-2 Year          Yes\n",
            "1    Male   1-2 Year          Yes\n",
            "2    Male   < 1 Year          Yes\n",
            "3  Female   < 1 Year          Yes\n",
            "4    Male  > 2 Years          Yes\n",
            "(304887, 4)\n",
            "\n",
            "---The data after one hot encoding---\n",
            "      0    1    2    3\n",
            "0  0.0  0.0  0.0  1.0\n",
            "1  1.0  0.0  0.0  1.0\n",
            "2  1.0  1.0  0.0  1.0\n",
            "3  0.0  1.0  0.0  1.0\n",
            "4  1.0  0.0  1.0  1.0\n"
          ]
        },
        {
          "output_type": "execute_result",
          "data": {
            "text/plain": [
              "     0    1    2    3      id   Age  HasDrivingLicense  RegionID  Switch  \\\n",
              "0  0.0  0.0  0.0  1.0  332804  39.0                1.0      15.0     0.0   \n",
              "1  1.0  0.0  0.0  1.0  116249  38.0                1.0      11.0     0.0   \n",
              "2  1.0  1.0  0.0  1.0  255006  22.0                1.0      30.0     0.0   \n",
              "3  0.0  1.0  0.0  1.0  317475  23.0                1.0      28.0     0.0   \n",
              "4  1.0  0.0  1.0  1.0  344213  56.0                1.0      48.0     0.0   \n",
              "\n",
              "  AnnualPremium  SalesChannelID  DaysSinceCreated  Result  \n",
              "0        2645.3              55               227       1  \n",
              "1        1151.9              26                29       0  \n",
              "2        2265.9             152               166       0  \n",
              "3        1456.6             151               277       0  \n",
              "4         131.5             154               155       0  "
            ],
            "text/html": [
              "\n",
              "  <div id=\"df-295a0493-c20c-472a-9eb8-26628b35c6f7\">\n",
              "    <div class=\"colab-df-container\">\n",
              "      <div>\n",
              "<style scoped>\n",
              "    .dataframe tbody tr th:only-of-type {\n",
              "        vertical-align: middle;\n",
              "    }\n",
              "\n",
              "    .dataframe tbody tr th {\n",
              "        vertical-align: top;\n",
              "    }\n",
              "\n",
              "    .dataframe thead th {\n",
              "        text-align: right;\n",
              "    }\n",
              "</style>\n",
              "<table border=\"1\" class=\"dataframe\">\n",
              "  <thead>\n",
              "    <tr style=\"text-align: right;\">\n",
              "      <th></th>\n",
              "      <th>0</th>\n",
              "      <th>1</th>\n",
              "      <th>2</th>\n",
              "      <th>3</th>\n",
              "      <th>id</th>\n",
              "      <th>Age</th>\n",
              "      <th>HasDrivingLicense</th>\n",
              "      <th>RegionID</th>\n",
              "      <th>Switch</th>\n",
              "      <th>AnnualPremium</th>\n",
              "      <th>SalesChannelID</th>\n",
              "      <th>DaysSinceCreated</th>\n",
              "      <th>Result</th>\n",
              "    </tr>\n",
              "  </thead>\n",
              "  <tbody>\n",
              "    <tr>\n",
              "      <th>0</th>\n",
              "      <td>0.0</td>\n",
              "      <td>0.0</td>\n",
              "      <td>0.0</td>\n",
              "      <td>1.0</td>\n",
              "      <td>332804</td>\n",
              "      <td>39.0</td>\n",
              "      <td>1.0</td>\n",
              "      <td>15.0</td>\n",
              "      <td>0.0</td>\n",
              "      <td>2645.3</td>\n",
              "      <td>55</td>\n",
              "      <td>227</td>\n",
              "      <td>1</td>\n",
              "    </tr>\n",
              "    <tr>\n",
              "      <th>1</th>\n",
              "      <td>1.0</td>\n",
              "      <td>0.0</td>\n",
              "      <td>0.0</td>\n",
              "      <td>1.0</td>\n",
              "      <td>116249</td>\n",
              "      <td>38.0</td>\n",
              "      <td>1.0</td>\n",
              "      <td>11.0</td>\n",
              "      <td>0.0</td>\n",
              "      <td>1151.9</td>\n",
              "      <td>26</td>\n",
              "      <td>29</td>\n",
              "      <td>0</td>\n",
              "    </tr>\n",
              "    <tr>\n",
              "      <th>2</th>\n",
              "      <td>1.0</td>\n",
              "      <td>1.0</td>\n",
              "      <td>0.0</td>\n",
              "      <td>1.0</td>\n",
              "      <td>255006</td>\n",
              "      <td>22.0</td>\n",
              "      <td>1.0</td>\n",
              "      <td>30.0</td>\n",
              "      <td>0.0</td>\n",
              "      <td>2265.9</td>\n",
              "      <td>152</td>\n",
              "      <td>166</td>\n",
              "      <td>0</td>\n",
              "    </tr>\n",
              "    <tr>\n",
              "      <th>3</th>\n",
              "      <td>0.0</td>\n",
              "      <td>1.0</td>\n",
              "      <td>0.0</td>\n",
              "      <td>1.0</td>\n",
              "      <td>317475</td>\n",
              "      <td>23.0</td>\n",
              "      <td>1.0</td>\n",
              "      <td>28.0</td>\n",
              "      <td>0.0</td>\n",
              "      <td>1456.6</td>\n",
              "      <td>151</td>\n",
              "      <td>277</td>\n",
              "      <td>0</td>\n",
              "    </tr>\n",
              "    <tr>\n",
              "      <th>4</th>\n",
              "      <td>1.0</td>\n",
              "      <td>0.0</td>\n",
              "      <td>1.0</td>\n",
              "      <td>1.0</td>\n",
              "      <td>344213</td>\n",
              "      <td>56.0</td>\n",
              "      <td>1.0</td>\n",
              "      <td>48.0</td>\n",
              "      <td>0.0</td>\n",
              "      <td>131.5</td>\n",
              "      <td>154</td>\n",
              "      <td>155</td>\n",
              "      <td>0</td>\n",
              "    </tr>\n",
              "  </tbody>\n",
              "</table>\n",
              "</div>\n",
              "      <button class=\"colab-df-convert\" onclick=\"convertToInteractive('df-295a0493-c20c-472a-9eb8-26628b35c6f7')\"\n",
              "              title=\"Convert this dataframe to an interactive table.\"\n",
              "              style=\"display:none;\">\n",
              "        \n",
              "  <svg xmlns=\"http://www.w3.org/2000/svg\" height=\"24px\"viewBox=\"0 0 24 24\"\n",
              "       width=\"24px\">\n",
              "    <path d=\"M0 0h24v24H0V0z\" fill=\"none\"/>\n",
              "    <path d=\"M18.56 5.44l.94 2.06.94-2.06 2.06-.94-2.06-.94-.94-2.06-.94 2.06-2.06.94zm-11 1L8.5 8.5l.94-2.06 2.06-.94-2.06-.94L8.5 2.5l-.94 2.06-2.06.94zm10 10l.94 2.06.94-2.06 2.06-.94-2.06-.94-.94-2.06-.94 2.06-2.06.94z\"/><path d=\"M17.41 7.96l-1.37-1.37c-.4-.4-.92-.59-1.43-.59-.52 0-1.04.2-1.43.59L10.3 9.45l-7.72 7.72c-.78.78-.78 2.05 0 2.83L4 21.41c.39.39.9.59 1.41.59.51 0 1.02-.2 1.41-.59l7.78-7.78 2.81-2.81c.8-.78.8-2.07 0-2.86zM5.41 20L4 18.59l7.72-7.72 1.47 1.35L5.41 20z\"/>\n",
              "  </svg>\n",
              "      </button>\n",
              "      \n",
              "  <style>\n",
              "    .colab-df-container {\n",
              "      display:flex;\n",
              "      flex-wrap:wrap;\n",
              "      gap: 12px;\n",
              "    }\n",
              "\n",
              "    .colab-df-convert {\n",
              "      background-color: #E8F0FE;\n",
              "      border: none;\n",
              "      border-radius: 50%;\n",
              "      cursor: pointer;\n",
              "      display: none;\n",
              "      fill: #1967D2;\n",
              "      height: 32px;\n",
              "      padding: 0 0 0 0;\n",
              "      width: 32px;\n",
              "    }\n",
              "\n",
              "    .colab-df-convert:hover {\n",
              "      background-color: #E2EBFA;\n",
              "      box-shadow: 0px 1px 2px rgba(60, 64, 67, 0.3), 0px 1px 3px 1px rgba(60, 64, 67, 0.15);\n",
              "      fill: #174EA6;\n",
              "    }\n",
              "\n",
              "    [theme=dark] .colab-df-convert {\n",
              "      background-color: #3B4455;\n",
              "      fill: #D2E3FC;\n",
              "    }\n",
              "\n",
              "    [theme=dark] .colab-df-convert:hover {\n",
              "      background-color: #434B5C;\n",
              "      box-shadow: 0px 1px 3px 1px rgba(0, 0, 0, 0.15);\n",
              "      filter: drop-shadow(0px 1px 2px rgba(0, 0, 0, 0.3));\n",
              "      fill: #FFFFFF;\n",
              "    }\n",
              "  </style>\n",
              "\n",
              "      <script>\n",
              "        const buttonEl =\n",
              "          document.querySelector('#df-295a0493-c20c-472a-9eb8-26628b35c6f7 button.colab-df-convert');\n",
              "        buttonEl.style.display =\n",
              "          google.colab.kernel.accessAllowed ? 'block' : 'none';\n",
              "\n",
              "        async function convertToInteractive(key) {\n",
              "          const element = document.querySelector('#df-295a0493-c20c-472a-9eb8-26628b35c6f7');\n",
              "          const dataTable =\n",
              "            await google.colab.kernel.invokeFunction('convertToInteractive',\n",
              "                                                     [key], {});\n",
              "          if (!dataTable) return;\n",
              "\n",
              "          const docLinkHtml = 'Like what you see? Visit the ' +\n",
              "            '<a target=\"_blank\" href=https://colab.research.google.com/notebooks/data_table.ipynb>data table notebook</a>'\n",
              "            + ' to learn more about interactive tables.';\n",
              "          element.innerHTML = '';\n",
              "          dataTable['output_type'] = 'display_data';\n",
              "          await google.colab.output.renderOutput(dataTable, element);\n",
              "          const docLink = document.createElement('div');\n",
              "          docLink.innerHTML = docLinkHtml;\n",
              "          element.appendChild(docLink);\n",
              "        }\n",
              "      </script>\n",
              "    </div>\n",
              "  </div>\n",
              "  "
            ]
          },
          "metadata": {},
          "execution_count": 77
        }
      ]
    },
    {
      "cell_type": "markdown",
      "source": [
        "**DATA PREPARATIONS**"
      ],
      "metadata": {
        "id": "WnyXvk39I14x"
      }
    },
    {
      "cell_type": "code",
      "source": [
        "from sklearn.model_selection import train_test_split\n",
        "from sklearn.metrics._plot.confusion_matrix import confusion_matrix\n",
        "from sklearn.metrics import classification_report\n",
        "from sklearn.metrics import precision_score, f1_score, recall_score, roc_auc_score\n",
        "\n",
        "#spliting data into training and testing\n",
        "X = Data_frame_enc[[0, 1, 2, 3, 'Age','HasDrivingLicense','RegionID','Switch','AnnualPremium', 'SalesChannelID','DaysSinceCreated']]\n",
        "y = Data_frame_enc[['Result']]\n",
        "\n",
        "X_train, X_test, y_train, y_test = train_test_split(X, y, test_size=0.2, random_state=42)"
      ],
      "metadata": {
        "id": "vLy1JtWLrIgi"
      },
      "execution_count": 78,
      "outputs": []
    },
    {
      "cell_type": "code",
      "source": [
        "from sklearn.preprocessing import StandardScaler\n",
        "\n",
        "scaler = StandardScaler()\n",
        "\n",
        "# fit the scaler to the train set, it will learn the parameters\n",
        "scaler.fit(X_train)\n",
        "\n",
        "# transform train and test sets\n",
        "X_train_scaled = scaler.transform(X_train)\n",
        "X_test_scaled = scaler.transform(X_test)"
      ],
      "metadata": {
        "id": "kW1xFbIZ2bS9"
      },
      "execution_count": 79,
      "outputs": []
    },
    {
      "cell_type": "code",
      "source": [
        "# converting numpy array into Dataframe\n",
        "X_train_scaled = pd.DataFrame(X_train_scaled, columns=X_train.columns)\n",
        "X_test_scaled = pd.DataFrame(X_test_scaled, columns=X_test.columns)"
      ],
      "metadata": {
        "id": "81DKlDuj2gWX"
      },
      "execution_count": 80,
      "outputs": []
    },
    {
      "cell_type": "code",
      "source": [
        "# for balancing the imbalanced dataset\n",
        "from imblearn.over_sampling import SMOTE\n",
        "sm = SMOTE(random_state=42)\n",
        "X_res,y_res = sm.fit_resample(X_train_scaled, y_train)"
      ],
      "metadata": {
        "id": "op89Q5WG7YHW"
      },
      "execution_count": 81,
      "outputs": []
    },
    {
      "cell_type": "markdown",
      "source": [
        "**MODEL IMPLIMENTATION & PERFORMANCE EVALUATION**\n",
        "\n",
        "\n",
        "USE 3 CLASSIFICATION ALGORITHMS -\n",
        "1. RANDOM FOREST\n",
        "2. DECISION TREE\n",
        "3. K- Nearest Neighbors"
      ],
      "metadata": {
        "id": "FbCyfiz3poHs"
      }
    },
    {
      "cell_type": "code",
      "source": [
        "# Random Forest\n",
        "from sklearn.ensemble import RandomForestClassifier\n",
        "\n",
        "# Create the model\n",
        "model = RandomForestClassifier(n_estimators=100, random_state=42)\n",
        "\n",
        "# Train the model on the training data\n",
        "model.fit(X_train_scaled, y_train)\n",
        "y_predict = model.predict(X_test_scaled)\n",
        "\n",
        "# Calculate the precision, F1 score, recall and AUC\n",
        "precision = precision_score(y_test, y_predict)\n",
        "f1 = f1_score(y_test, y_predict)\n",
        "recall = recall_score(y_test, y_predict)\n",
        "auc = roc_auc_score(y_test, y_predict, average='weighted')\n",
        "\n",
        "print(\"Random Forest Classifier Metrics - \")\n",
        "print(\"Precision: {:.2f}\".format(precision))\n",
        "print(\"F1 score: {:.2f}\".format(f1))\n",
        "print(\"Recall: {:.2f}\".format(recall))\n",
        "print(\"AUC: {:.2f}\".format(auc))\n",
        "\n",
        "# Evaluate the model on the test data\n",
        "accuracy = model.score(X_test_scaled, y_test)\n",
        "print(\"Test set accuracy: {:.2f}\".format(accuracy))\n"
      ],
      "metadata": {
        "colab": {
          "base_uri": "https://localhost:8080/"
        },
        "id": "YH6Fa6RlemB-",
        "outputId": "bcf5c191-4ccc-4239-cd19-629244788ce5"
      },
      "execution_count": 82,
      "outputs": [
        {
          "output_type": "stream",
          "name": "stdout",
          "text": [
            "Random Forest Classifier Metrics - \n",
            "Precision: 0.32\n",
            "F1 score: 0.14\n",
            "Recall: 0.09\n",
            "AUC: 0.53\n",
            "Test set accuracy: 0.87\n"
          ]
        }
      ]
    },
    {
      "cell_type": "code",
      "source": [
        "con_mat = confusion_matrix(y_test,y_predict)\n",
        "con_mat = pd.DataFrame(data=con_mat)\n",
        "sns.heatmap(con_mat,annot=True, fmt='d')\n",
        "plt.show()\n",
        "print(classification_report(y_test, y_predict))"
      ],
      "metadata": {
        "colab": {
          "base_uri": "https://localhost:8080/",
          "height": 421
        },
        "id": "3fnJS4H6X6Si",
        "outputId": "a25dc219-2dd6-4587-d5c0-9e0579f358fd"
      },
      "execution_count": 83,
      "outputs": [
        {
          "output_type": "display_data",
          "data": {
            "text/plain": [
              "<Figure size 432x288 with 2 Axes>"
            ],
            "image/png": "[encoded data removed]"
          },
          "metadata": {
            "needs_background": "light"
          }
        },
        {
          "output_type": "stream",
          "name": "stdout",
          "text": [
            "              precision    recall  f1-score   support\n",
            "\n",
            "           0       0.88      0.98      0.93     53490\n",
            "           1       0.32      0.09      0.14      7488\n",
            "\n",
            "    accuracy                           0.87     60978\n",
            "   macro avg       0.60      0.53      0.53     60978\n",
            "weighted avg       0.82      0.87      0.83     60978\n",
            "\n"
          ]
        }
      ]
    },
    {
      "cell_type": "code",
      "source": [
        "# Decidion Tree\n",
        "from sklearn.tree import DecisionTreeClassifier\n",
        "\n",
        "# Create the model\n",
        "model = DecisionTreeClassifier(random_state=42)\n",
        "\n",
        "# Train the model on the training data\n",
        "model.fit(X_train_scaled, y_train)\n",
        "y_predict = model.predict(X_test_scaled)\n",
        "\n",
        "# Calculate the precision, F1 score, recall and AUC\n",
        "precision = precision_score(y_test, y_predict)\n",
        "f1 = f1_score(y_test, y_predict)\n",
        "recall = recall_score(y_test, y_predict, average='weighted')\n",
        "auc = roc_auc_score(y_test, y_predict)\n",
        "print(\"Decision Tree Classifier Metrics - \")\n",
        "print(\"Precision: {:.2f}\".format(precision))\n",
        "print(\"F1 score: {:.2f}\".format(f1))\n",
        "print(\"Recall: {:.2f}\".format(recall))\n",
        "print(\"AUC: {:.2f}\".format(auc))\n",
        "\n",
        "# Evaluate the model on the test data\n",
        "accuracy = model.score(X_test_scaled, y_test)\n",
        "print(\"Test set accuracy: {:.2f}\".format(accuracy))"
      ],
      "metadata": {
        "colab": {
          "base_uri": "https://localhost:8080/"
        },
        "id": "0_6n-4Q2emET",
        "outputId": "5b5807d5-5aea-4cc5-ef35-ed9ea1a0378c"
      },
      "execution_count": 84,
      "outputs": [
        {
          "output_type": "stream",
          "name": "stdout",
          "text": [
            "Decision Tree Classifier Metrics - \n",
            "Precision: 0.25\n",
            "F1 score: 0.26\n",
            "Recall: 0.81\n",
            "AUC: 0.58\n",
            "Test set accuracy: 0.81\n"
          ]
        }
      ]
    },
    {
      "cell_type": "code",
      "source": [
        "con_mat = confusion_matrix(y_test,y_predict)\n",
        "con_mat = pd.DataFrame(data=con_mat)\n",
        "sns.heatmap(con_mat,annot=True, fmt='d')\n",
        "plt.show()\n",
        "print(classification_report(y_test, y_predict))"
      ],
      "metadata": {
        "colab": {
          "base_uri": "https://localhost:8080/",
          "height": 421
        },
        "id": "PaGcOekS5qtU",
        "outputId": "210a80a5-2849-423e-858a-d40d53f4c548"
      },
      "execution_count": 85,
      "outputs": [
        {
          "output_type": "display_data",
          "data": {
            "text/plain": [
              "<Figure size 432x288 with 2 Axes>"
            ],
            "image/png": "[encoded data removed]"
          },
          "metadata": {
            "needs_background": "light"
          }
        },
        {
          "output_type": "stream",
          "name": "stdout",
          "text": [
            "              precision    recall  f1-score   support\n",
            "\n",
            "           0       0.90      0.89      0.89     53490\n",
            "           1       0.25      0.27      0.26      7488\n",
            "\n",
            "    accuracy                           0.81     60978\n",
            "   macro avg       0.58      0.58      0.58     60978\n",
            "weighted avg       0.82      0.81      0.82     60978\n",
            "\n"
          ]
        }
      ]
    },
    {
      "cell_type": "code",
      "source": [
        "from sklearn.neighbors import KNeighborsClassifier\n",
        "\n",
        "# Create the model\n",
        "model = KNeighborsClassifier(n_neighbors=5)\n",
        "\n",
        "# Train the model on the training data\n",
        "model.fit(X_res, y_res)\n",
        "y_predict = model.predict(X_test_scaled)\n",
        "# Calculate the precision, F1 score, recall and AUC\n",
        "precision = precision_score(y_test, y_predict)\n",
        "f1 = f1_score(y_test, y_predict)\n",
        "recall = recall_score(y_test, y_predict, average='weighted')\n",
        "auc = roc_auc_score(y_test, y_predict)\n",
        "print(\"K Nearest Neighbors Classifier Metrics - \")\n",
        "print(\"Precision: {:.2f}\".format(precision))\n",
        "print(\"F1 score: {:.2f}\".format(f1))\n",
        "print(\"Recall: {:.2f}\".format(recall))\n",
        "print(\"AUC: {:.2f}\".format(auc))\n",
        "\n",
        "# Evaluate the model on the test data\n",
        "accuracy = model.score(X_test_scaled, y_test)\n",
        "print(\"Test set accuracy: {:.2f}\".format(accuracy))"
      ],
      "metadata": {
        "colab": {
          "base_uri": "https://localhost:8080/"
        },
        "id": "LngWGyl0GO2s",
        "outputId": "9e2d529b-b05f-4359-e368-32e24f49b949"
      },
      "execution_count": 86,
      "outputs": [
        {
          "output_type": "stream",
          "name": "stdout",
          "text": [
            "K Nearest Neighbors Classifier Metrics - \n",
            "Precision: 0.24\n",
            "F1 score: 0.33\n",
            "Recall: 0.72\n",
            "AUC: 0.66\n",
            "Test set accuracy: 0.72\n"
          ]
        }
      ]
    },
    {
      "cell_type": "code",
      "source": [
        "con_mat = confusion_matrix(y_test,y_predict)\n",
        "con_mat = pd.DataFrame(data=con_mat)\n",
        "sns.heatmap(con_mat,annot=True, fmt='d')\n",
        "plt.show()\n",
        "print(classification_report(y_test, y_predict))"
      ],
      "metadata": {
        "colab": {
          "base_uri": "https://localhost:8080/",
          "height": 421
        },
        "id": "8dcyYxo2HOTm",
        "outputId": "eebd9640-6f51-46f2-bba8-b601a18da7da"
      },
      "execution_count": 87,
      "outputs": [
        {
          "output_type": "display_data",
          "data": {
            "text/plain": [
              "<Figure size 432x288 with 2 Axes>"
            ],
            "image/png": "[encoded data removed]"
          },
          "metadata": {
            "needs_background": "light"
          }
        },
        {
          "output_type": "stream",
          "name": "stdout",
          "text": [
            "              precision    recall  f1-score   support\n",
            "\n",
            "           0       0.93      0.74      0.82     53490\n",
            "           1       0.24      0.57      0.33      7488\n",
            "\n",
            "    accuracy                           0.72     60978\n",
            "   macro avg       0.58      0.66      0.58     60978\n",
            "weighted avg       0.84      0.72      0.76     60978\n",
            "\n"
          ]
        }
      ]
    }
  ]
}